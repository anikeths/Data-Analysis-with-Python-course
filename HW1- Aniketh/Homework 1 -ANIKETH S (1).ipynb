{
 "cells": [
  {
   "cell_type": "code",
   "execution_count": null,
   "metadata": {},
   "outputs": [],
   "source": [
    "Homework1 -ANIKETH SATYANARAYANA - W1607589"
   ]
  },
  {
   "cell_type": "markdown",
   "metadata": {},
   "source": [
    "#### 1. Given the list: ['Yale','MIT', 'Santa Clara University', 'Stanford'] write a Python code to sort the list by the length of each element from the longest to the shortest."
   ]
  },
  {
   "cell_type": "code",
   "execution_count": 4,
   "metadata": {},
   "outputs": [
    {
     "name": "stdout",
     "output_type": "stream",
     "text": [
      "['Santa Clara University', 'Stanford', 'Yale', 'MIT']\n"
     ]
    }
   ],
   "source": [
    "listuni= ['Yale','MIT', 'Santa Clara University', 'Stanford']\n",
    "a = sorted(listuni, key= lambda x: len(x), reverse=True)\n",
    "print(a)"
   ]
  },
  {
   "cell_type": "markdown",
   "metadata": {},
   "source": [
    "#### 2. Write a code that takes a list of characters and returns the frequencies in a descending order:\n",
    "#### Example: ['a', 'c', 'a', 'b', 'a', 'c'] ==> {'a':3, 'c':2, 'b':1}"
   ]
  },
  {
   "cell_type": "code",
   "execution_count": 20,
   "metadata": {},
   "outputs": [
    {
     "name": "stdout",
     "output_type": "stream",
     "text": [
      "{'a': 3, 'c': 2, 'b': 1}\n",
      "{1: 5, 4: 2, 3: 3, 5: 3, 6: 4}\n"
     ]
    }
   ],
   "source": [
    "# Python program to count the frequency of\n",
    "# elements in a list using a dictionary\n",
    "\n",
    "def CountFrequency(list):\n",
    "\n",
    "    # Creating an empty dictionary\n",
    "    count = {}\n",
    "    for i in ['a','c','a','b','a','c']:\n",
    "        count[i] = count.get(i, 0) + 1\n",
    "    return count\n",
    "\n",
    "list1=['a','c','a','b','a','c']\n",
    "print(CountFrequency(list1))\n",
    "\n",
    "\n",
    "#Another example\n",
    "\n",
    "def CountFrequency2(list):\n",
    "\n",
    "    # Creating an empty dictionary\n",
    "    count = {}\n",
    "    for i in [1, 1, 1, 4, 4, 3, 1, 3, 3, 1 ,5, 5,5, 6, 6, 6, 6]:\n",
    "        count[i] = count.get(i, 0) + 1\n",
    "    return count\n",
    "print(CountFrequency2(list2))\n",
    "\n"
   ]
  },
  {
   "cell_type": "code",
   "execution_count": 9,
   "metadata": {},
   "outputs": [
    {
     "name": "stdout",
     "output_type": "stream",
     "text": [
      "Counter({'a': 3, 'c': 2, 'b': 1})\n"
     ]
    }
   ],
   "source": [
    "#ANOTHER WAY \n",
    "\n",
    "import collections\n",
    "a_list = ['a','c','a','b','a','c']\n",
    "occurrences = collections. Counter(a_list)\n",
    "print(occurrences)\n"
   ]
  },
  {
   "cell_type": "markdown",
   "metadata": {},
   "source": [
    "####  3. Using a list comprehension, write an expression that takes the words \n",
    "#### ['Apple', 'Banana', 'Pear', 'Strawberry'] and returns the words\n",
    " #### that do not start with \"S\" and the number of characters    Output: [('Apple',5), ('Banana',6), ('Pear',4)]."
   ]
  },
  {
   "cell_type": "code",
   "execution_count": 31,
   "metadata": {},
   "outputs": [
    {
     "data": {
      "text/plain": [
       "[('Apple', 5), ('Banana', 6), ('Pear', 4)]"
      ]
     },
     "execution_count": 31,
     "metadata": {},
     "output_type": "execute_result"
    }
   ],
   "source": [
    "fruits=['Apple','Banana','Pear','Strawberry']\n",
    "\n",
    "newlist = [(x, len(x)) for x in fruits if x[0] !='S']\n",
    "newlist"
   ]
  }
 ],
 "metadata": {
  "kernelspec": {
   "display_name": "Python 3",
   "language": "python",
   "name": "python3"
  },
  "language_info": {
   "codemirror_mode": {
    "name": "ipython",
    "version": 3
   },
   "file_extension": ".py",
   "mimetype": "text/x-python",
   "name": "python",
   "nbconvert_exporter": "python",
   "pygments_lexer": "ipython3",
   "version": "3.7.6"
  }
 },
 "nbformat": 4,
 "nbformat_minor": 4
}
